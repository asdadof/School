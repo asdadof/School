{
 "cells": [
  {
   "cell_type": "markdown",
   "id": "d80cfe0e",
   "metadata": {},
   "source": [
    "# Nullpunkt, del 2"
   ]
  },
  {
   "cell_type": "markdown",
   "id": "0af41520",
   "metadata": {},
   "source": [
    "Den første algoritmen for å finne nullpunkt krevde at vi først lokaliserete ett og ett punkt, og at vi oppga om grafen starter under eller over _x_-aksen.\n",
    "\n",
    "Vi skal her se på en mer effektiv metode."
   ]
  },
  {
   "cell_type": "markdown",
   "id": "1acacdfd",
   "metadata": {},
   "source": [
    "Vi definerer først en funksjon $f$."
   ]
  },
  {
   "cell_type": "code",
   "execution_count": 2,
   "id": "594d091c",
   "metadata": {},
   "outputs": [],
   "source": [
    "def f(x):\n",
    "    y = x**3 - (9/2) * x**2 + (7/2)*x + 3\n",
    "    return y"
   ]
  },
  {
   "cell_type": "markdown",
   "id": "28864c34",
   "metadata": {},
   "source": [
    "Som sist må vi sette et intervall der algoritmen skal lete."
   ]
  },
  {
   "cell_type": "code",
   "execution_count": 3,
   "id": "f37693f4",
   "metadata": {},
   "outputs": [],
   "source": [
    "x_min = -1\n",
    "x_max =  4"
   ]
  },
  {
   "cell_type": "markdown",
   "id": "b8fc1d92",
   "metadata": {},
   "source": [
    "## Oppgave 1\n",
    "Les gjennom algoritmen under _før_ du kjører koden. Forklar hvordan algoritmen virker. "
   ]
  },
  {
   "cell_type": "code",
   "execution_count": 4,
   "id": "7726ea4e",
   "metadata": {},
   "outputs": [
    {
     "name": "stdout",
     "output_type": "stream",
     "text": [
      "Nullpunkt: x ≈ -0.5\n",
      "Nullpunkt: x ≈ 2.0\n",
      "Nullpunkt: x ≈ 3.0\n"
     ]
    }
   ],
   "source": [
    "x_steg = 0.001\n",
    "\n",
    "x = x_min\n",
    "while x <= x_max:\n",
    "    if f(x)*f(x + x_steg) < 0:\n",
    "        xn = x + 0.5*x_steg\n",
    "        print(\"Nullpunkt: x ≈ \" + str(round(xn,2)))\n",
    "        \n",
    "    x += x_steg"
   ]
  },
  {
   "cell_type": "markdown",
   "id": "a80369e0",
   "metadata": {},
   "source": [
    "## Oppgave 2\n",
    "\n",
    "Lag en ny utgave av algoritmen over der du legger nullpunktene til en liste <code>nullpunkt</code>, i stedet for å skrive dem ut. \n",
    "\n",
    "Du skal bruke denne listen i neste oppgave."
   ]
  },
  {
   "cell_type": "code",
   "execution_count": 5,
   "id": "4ae2c654",
   "metadata": {},
   "outputs": [
    {
     "name": "stdout",
     "output_type": "stream",
     "text": [
      "['-0.5', '2.0', '3.0']\n"
     ]
    }
   ],
   "source": [
    "x_steg = 0.001\n",
    "nullpunkt = []\n",
    "x = x_min\n",
    "while x <= x_max:\n",
    "    if f(x)*f(x + x_steg) < 0:\n",
    "        xn = x + 0.5*x_steg\n",
    "        nullpunkt.append(str(round(xn,2)))\n",
    "        \n",
    "    x += x_steg\n",
    "print(nullpunkt)"
   ]
  },
  {
   "cell_type": "markdown",
   "id": "a4c5d8da",
   "metadata": {},
   "source": [
    "## Oppgave 3\n",
    "\n",
    "Du skal nå plotte punktene på grafen.\n",
    "1. Tegn _x_-aksen\n",
    "2. Tegn funsjonen\n",
    "3. Plott punktene - ett om gangen\n",
    "\n",
    "Nyttig:\n",
    "- Du kan hente ut en enkeltverdi fra en liste ved å bruke klammenotajson. <code>nullpunkt[0]</code> returnerer eksempelvis det første nullpunktet i lista.\n",
    "- <code>len(nullpunkt)</code> gir deg hvor mange verdier listen inneholder \n",
    "- Du kan plotte et enkeltpunkt med kommandoen <code>plt.plot(x, y, \"o\")</code>."
   ]
  },
  {
   "cell_type": "code",
   "execution_count": null,
   "id": "4d325b43",
   "metadata": {},
   "outputs": [],
   "source": []
  },
  {
   "cell_type": "code",
   "execution_count": 6,
   "id": "6ebd489e",
   "metadata": {},
   "outputs": [
    {
     "data": {
      "image/png": "[encoded data removed]",
      "text/plain": [
       "<Figure size 640x480 with 1 Axes>"
      ]
     },
     "metadata": {},
     "output_type": "display_data"
    }
   ],
   "source": [
    "import matplotlib.pyplot as plt\n",
    "\n",
    "nullpunkt = [-0.5,2,3]\n",
    "x_liste = []\n",
    "y_liste = []\n",
    "null = [0,0,0,0,0]\n",
    "x_min = -1\n",
    "x_max = 4\n",
    "\n",
    "x = x_min\n",
    "while x <= x_max:\n",
    "    if f(x)*f(x + x_steg) < 0:\n",
    "        xn = x + 0.5*x_steg\n",
    "        #nullpunkt.append(str(round(xn,2)))\n",
    "    x_liste.append(   x  )\n",
    "    y_liste.append( f(x) )\n",
    "\n",
    "\n",
    "    x += 0.0001\n",
    "\n",
    "y_min = min(y_liste)\n",
    "y_max = max(y_liste)\n",
    "    \n",
    "plt.plot([x_min, x_max], [0,0], \"k--\")\n",
    "\n",
    "plt.plot(x_liste, y_liste)\n",
    "\n",
    "plt.plot(-0.5, 0, \"o\")\n",
    "plt.plot(2, 0, \"o\")   \n",
    "plt.plot(3, 0, \"o\")\n",
    "\n",
    "       \n",
    "plt.grid(True)\n",
    "\n",
    "plt.show()"
   ]
  }
 ],
 "metadata": {
  "kernelspec": {
   "display_name": "Python 3 (ipykernel)",
   "language": "python",
   "name": "python3"
  },
  "language_info": {
   "codemirror_mode": {
    "name": "ipython",
    "version": 3
   },
   "file_extension": ".py",
   "mimetype": "text/x-python",
   "name": "python",
   "nbconvert_exporter": "python",
   "pygments_lexer": "ipython3",
   "version": "3.11.6"
  }
 },
 "nbformat": 4,
 "nbformat_minor": 5
}
