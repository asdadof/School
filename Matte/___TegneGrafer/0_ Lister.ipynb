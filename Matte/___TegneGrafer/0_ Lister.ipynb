{
 "cells": [
  {
   "cell_type": "markdown",
   "metadata": {},
   "source": [
    "# Lister"
   ]
  },
  {
   "cell_type": "markdown",
   "metadata": {},
   "source": [
    "Vi bruker lister til å samle ting av samme type."
   ]
  },
  {
   "cell_type": "markdown",
   "metadata": {},
   "source": [
    "En liste startes med <code>[</code> og avsluttes med <code>]</code>.\n",
    "Når listens elementer er tekst, må vi huske anførselstegn rundt teksten. "
   ]
  },
  {
   "cell_type": "code",
   "execution_count": 1,
   "metadata": {},
   "outputs": [
    {
     "name": "stdout",
     "output_type": "stream",
     "text": [
      "['melk', 'brød', 'ost']\n"
     ]
    }
   ],
   "source": [
    "handleliste = [\"melk\", \"brød\", \"ost\"]\n",
    "print(handleliste)"
   ]
  },
  {
   "cell_type": "markdown",
   "metadata": {},
   "source": [
    "Vi kan legge til flere elementer til en liste ved å bruke metoden <code>.append()</code>."
   ]
  },
  {
   "cell_type": "code",
   "execution_count": 2,
   "metadata": {},
   "outputs": [
    {
     "name": "stdout",
     "output_type": "stream",
     "text": [
      "['melk', 'brød', 'ost', 'salami']\n"
     ]
    }
   ],
   "source": [
    "handleliste.append(\"salami\")\n",
    "print(handleliste)"
   ]
  },
  {
   "cell_type": "markdown",
   "metadata": {},
   "source": [
    "Vi kan finne ut hvor mange elementer det er i listen ved å bruke funksjonen <code>len()</code>"
   ]
  },
  {
   "cell_type": "code",
   "execution_count": 3,
   "metadata": {},
   "outputs": [
    {
     "name": "stdout",
     "output_type": "stream",
     "text": [
      "4\n"
     ]
    }
   ],
   "source": [
    "antall_elementer = len(handleliste)\n",
    "print(antall_elementer)"
   ]
  },
  {
   "cell_type": "markdown",
   "metadata": {},
   "source": [
    "## Definere en tom liste"
   ]
  },
  {
   "cell_type": "markdown",
   "metadata": {},
   "source": [
    "Ofte skal verdiene i listene genreres dynamisk, det vil si at programmet selv skal fylle opp listen. I slike tilfeller oppretter vi en tom liste først."
   ]
  },
  {
   "cell_type": "code",
   "execution_count": 4,
   "metadata": {},
   "outputs": [],
   "source": [
    "tom_liste = []"
   ]
  },
  {
   "cell_type": "markdown",
   "metadata": {},
   "source": [
    "Vi kan da senere fylle på med verdier ved hjelp av metoden <code>.append()</code>."
   ]
  },
  {
   "cell_type": "markdown",
   "metadata": {},
   "source": [
    "## Eksempel\n",
    "> Lag en liste med 10 tilfeldige tall mellom 1 og 6."
   ]
  },
  {
   "cell_type": "markdown",
   "metadata": {},
   "source": [
    "Vi trenger her tilgang til biblioteket <code>random</code>."
   ]
  },
  {
   "cell_type": "code",
   "execution_count": 5,
   "metadata": {},
   "outputs": [],
   "source": [
    "import random"
   ]
  },
  {
   "cell_type": "markdown",
   "metadata": {},
   "source": [
    "Oppretter en tom liste."
   ]
  },
  {
   "cell_type": "code",
   "execution_count": 6,
   "metadata": {},
   "outputs": [],
   "source": [
    "liste_med_tall = []"
   ]
  },
  {
   "cell_type": "markdown",
   "metadata": {},
   "source": [
    "Bruker en løkke til å trekke tall for deretter og legge dem til listen."
   ]
  },
  {
   "cell_type": "code",
   "execution_count": 7,
   "metadata": {},
   "outputs": [],
   "source": [
    "teller = 0\n",
    "while teller < 10:\n",
    "    \n",
    "    # Trekker et tall i intervallet [1, 6]\n",
    "    tall = random.randint(1,6)\n",
    "    \n",
    "    # Legger tallet til lista\n",
    "    liste_med_tall.append(tall)\n",
    "    \n",
    "    teller += 1"
   ]
  },
  {
   "cell_type": "markdown",
   "metadata": {},
   "source": [
    "Vi kan så se hvilke tall som har blitt trukket."
   ]
  },
  {
   "cell_type": "code",
   "execution_count": 8,
   "metadata": {},
   "outputs": [
    {
     "name": "stdout",
     "output_type": "stream",
     "text": [
      "[1, 4, 4, 5, 3, 2, 3, 2, 4, 6]\n"
     ]
    }
   ],
   "source": [
    "print(liste_med_tall)"
   ]
  },
  {
   "cell_type": "markdown",
   "metadata": {},
   "source": [
    "## Største og minste tall i en liste\n",
    "Vi kan finne det største og det minste tallet i en liste med funksjonene <code>max()</code> og <code>min()</code>."
   ]
  },
  {
   "cell_type": "code",
   "execution_count": 10,
   "metadata": {},
   "outputs": [
    {
     "name": "stdout",
     "output_type": "stream",
     "text": [
      "Det minste tallet er 1\n",
      "og det største tallet er 9\n"
     ]
    }
   ],
   "source": [
    "liste = [ 3, 1, 4, 1, 5, 9 ]\n",
    "\n",
    "minste_tall  = min(liste)\n",
    "største_tall = max(liste)\n",
    "\n",
    "print(\"Det minste tallet er\", minste_tall)\n",
    "print(\"og det største tallet er\", største_tall)"
   ]
  }
 ],
 "metadata": {
  "kernelspec": {
   "display_name": "Python 3 (ipykernel)",
   "language": "python",
   "name": "python3"
  },
  "language_info": {
   "codemirror_mode": {
    "name": "ipython",
    "version": 3
   },
   "file_extension": ".py",
   "mimetype": "text/x-python",
   "name": "python",
   "nbconvert_exporter": "python",
   "pygments_lexer": "ipython3",
   "version": "3.10.6"
  }
 },
 "nbformat": 4,
 "nbformat_minor": 4
}
